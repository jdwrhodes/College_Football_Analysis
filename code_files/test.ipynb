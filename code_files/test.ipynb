{
 "cells": [
  {
   "cell_type": "code",
   "execution_count": 1,
   "id": "9519ddd5",
   "metadata": {},
   "outputs": [],
   "source": [
    "# Add Matplotlib inline magic command\n",
    "%matplotlib inline\n",
    "# Dependencies and setup\n",
    "import matplotlib.pyplot as plt\n",
    "import pandas as pd\n",
    "import os"
   ]
  },
  {
   "cell_type": "code",
   "execution_count": 7,
   "id": "181aaf31",
   "metadata": {},
   "outputs": [],
   "source": [
    "#Files to load\n",
    "college_football_data_13 = '../source_data/cfb13.csv'"
   ]
  },
  {
   "cell_type": "code",
   "execution_count": 3,
   "id": "8eee89d5",
   "metadata": {},
   "outputs": [],
   "source": [
    "test = os.path.join(\"source_data\", \"cfb13.csv\")"
   ]
  },
  {
   "cell_type": "code",
   "execution_count": 8,
   "id": "3aaede91",
   "metadata": {},
   "outputs": [],
   "source": [
    "#Load files\n",
    "cfb_13_df = pd.read_csv(college_football_data_13)"
   ]
  }
 ],
 "metadata": {
  "kernelspec": {
   "display_name": "collegefootball",
   "language": "python",
   "name": "collegefootball"
  },
  "language_info": {
   "codemirror_mode": {
    "name": "ipython",
    "version": 3
   },
   "file_extension": ".py",
   "mimetype": "text/x-python",
   "name": "python",
   "nbconvert_exporter": "python",
   "pygments_lexer": "ipython3",
   "version": "3.8.13"
  }
 },
 "nbformat": 4,
 "nbformat_minor": 5
}
