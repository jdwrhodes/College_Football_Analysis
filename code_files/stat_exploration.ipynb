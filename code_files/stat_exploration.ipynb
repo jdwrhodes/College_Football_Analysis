{
 "cells": [
  {
   "cell_type": "code",
   "execution_count": 1,
   "id": "9519ddd5",
   "metadata": {},
   "outputs": [],
   "source": [
    "# Dependencies and setup\n",
    "import pandas as pd\n",
    "import re\n",
    "import os\n",
    "import glob\n",
    "from cfExtract import conferenceExtract"
   ]
  },
  {
   "cell_type": "code",
   "execution_count": 2,
   "id": "4efe0b21",
   "metadata": {},
   "outputs": [],
   "source": [
    "#Files to load\n",
    "college_football_data = '../source_data/cfb*.csv'\n",
    "all_files = glob.glob(college_football_data)\n",
    "dataframes_list = []"
   ]
  },
  {
   "cell_type": "code",
   "execution_count": 3,
   "id": "a42aef5e",
   "metadata": {},
   "outputs": [],
   "source": [
    "#For Loop to put each csv into a list\n",
    "for x in all_files:\n",
    "    temp_df = pd.read_csv(x)\n",
    "    dataframes_list.append(temp_df)"
   ]
  },
  {
   "cell_type": "code",
   "execution_count": 4,
   "id": "2d7db3d8",
   "metadata": {},
   "outputs": [],
   "source": [
    "#Test the new Function made from the code below\n",
    "conferenceExtract(dataframes_list)"
   ]
  },
  {
   "cell_type": "code",
   "execution_count": 5,
   "id": "3444a60f",
   "metadata": {},
   "outputs": [
    {
     "data": {
      "text/html": [
       "<div>\n",
       "<style scoped>\n",
       "    .dataframe tbody tr th:only-of-type {\n",
       "        vertical-align: middle;\n",
       "    }\n",
       "\n",
       "    .dataframe tbody tr th {\n",
       "        vertical-align: top;\n",
       "    }\n",
       "\n",
       "    .dataframe thead th {\n",
       "        text-align: right;\n",
       "    }\n",
       "</style>\n",
       "<table border=\"1\" class=\"dataframe\">\n",
       "  <thead>\n",
       "    <tr style=\"text-align: right;\">\n",
       "      <th></th>\n",
       "      <th>Team</th>\n",
       "      <th>Conference</th>\n",
       "      <th>Games</th>\n",
       "      <th>Win</th>\n",
       "      <th>Loss</th>\n",
       "      <th>Off.Rank</th>\n",
       "      <th>Off.Plays</th>\n",
       "      <th>Off.Yards</th>\n",
       "      <th>Off.Yards.Play</th>\n",
       "      <th>Off.TDs</th>\n",
       "      <th>...</th>\n",
       "      <th>Average.Time.of.Possession.per.Game</th>\n",
       "      <th>Turnover.Rank</th>\n",
       "      <th>Fumbles.Recovered</th>\n",
       "      <th>Opponents.Intercepted</th>\n",
       "      <th>Turnovers.Gain</th>\n",
       "      <th>Fumbles.Lost</th>\n",
       "      <th>Interceptions.Thrown.y</th>\n",
       "      <th>Turnovers.Lost</th>\n",
       "      <th>Turnover.Margin</th>\n",
       "      <th>Avg.Turnover.Margin.per.Game</th>\n",
       "    </tr>\n",
       "  </thead>\n",
       "  <tbody>\n",
       "    <tr>\n",
       "      <th>0</th>\n",
       "      <td>Akron</td>\n",
       "      <td>MAC</td>\n",
       "      <td>12</td>\n",
       "      <td>5</td>\n",
       "      <td>7</td>\n",
       "      <td>106</td>\n",
       "      <td>837</td>\n",
       "      <td>4104</td>\n",
       "      <td>4.90</td>\n",
       "      <td>30</td>\n",
       "      <td>...</td>\n",
       "      <td>29:20</td>\n",
       "      <td>74</td>\n",
       "      <td>6</td>\n",
       "      <td>13</td>\n",
       "      <td>19</td>\n",
       "      <td>11</td>\n",
       "      <td>10</td>\n",
       "      <td>21</td>\n",
       "      <td>-2</td>\n",
       "      <td>-0.17</td>\n",
       "    </tr>\n",
       "    <tr>\n",
       "      <th>1</th>\n",
       "      <td>Alabama</td>\n",
       "      <td>SEC</td>\n",
       "      <td>13</td>\n",
       "      <td>11</td>\n",
       "      <td>2</td>\n",
       "      <td>33</td>\n",
       "      <td>826</td>\n",
       "      <td>5903</td>\n",
       "      <td>7.15</td>\n",
       "      <td>58</td>\n",
       "      <td>...</td>\n",
       "      <td>32:00</td>\n",
       "      <td>48</td>\n",
       "      <td>8</td>\n",
       "      <td>11</td>\n",
       "      <td>19</td>\n",
       "      <td>10</td>\n",
       "      <td>7</td>\n",
       "      <td>17</td>\n",
       "      <td>2</td>\n",
       "      <td>0.15</td>\n",
       "    </tr>\n",
       "    <tr>\n",
       "      <th>2</th>\n",
       "      <td>Arizona</td>\n",
       "      <td>Pac-12</td>\n",
       "      <td>13</td>\n",
       "      <td>8</td>\n",
       "      <td>5</td>\n",
       "      <td>31</td>\n",
       "      <td>1030</td>\n",
       "      <td>5960</td>\n",
       "      <td>5.79</td>\n",
       "      <td>52</td>\n",
       "      <td>...</td>\n",
       "      <td>28:30</td>\n",
       "      <td>39</td>\n",
       "      <td>4</td>\n",
       "      <td>18</td>\n",
       "      <td>22</td>\n",
       "      <td>11</td>\n",
       "      <td>7</td>\n",
       "      <td>18</td>\n",
       "      <td>4</td>\n",
       "      <td>0.31</td>\n",
       "    </tr>\n",
       "    <tr>\n",
       "      <th>3</th>\n",
       "      <td>Arizona St.</td>\n",
       "      <td>Pac-12</td>\n",
       "      <td>14</td>\n",
       "      <td>10</td>\n",
       "      <td>4</td>\n",
       "      <td>32</td>\n",
       "      <td>1102</td>\n",
       "      <td>6402</td>\n",
       "      <td>5.81</td>\n",
       "      <td>64</td>\n",
       "      <td>...</td>\n",
       "      <td>30:21</td>\n",
       "      <td>7</td>\n",
       "      <td>12</td>\n",
       "      <td>21</td>\n",
       "      <td>33</td>\n",
       "      <td>6</td>\n",
       "      <td>12</td>\n",
       "      <td>18</td>\n",
       "      <td>15</td>\n",
       "      <td>1.07</td>\n",
       "    </tr>\n",
       "    <tr>\n",
       "      <th>4</th>\n",
       "      <td>Arkansas</td>\n",
       "      <td>SEC</td>\n",
       "      <td>12</td>\n",
       "      <td>3</td>\n",
       "      <td>9</td>\n",
       "      <td>99</td>\n",
       "      <td>775</td>\n",
       "      <td>4286</td>\n",
       "      <td>5.53</td>\n",
       "      <td>29</td>\n",
       "      <td>...</td>\n",
       "      <td>30:26</td>\n",
       "      <td>111</td>\n",
       "      <td>6</td>\n",
       "      <td>8</td>\n",
       "      <td>14</td>\n",
       "      <td>12</td>\n",
       "      <td>11</td>\n",
       "      <td>23</td>\n",
       "      <td>-9</td>\n",
       "      <td>-0.75</td>\n",
       "    </tr>\n",
       "  </tbody>\n",
       "</table>\n",
       "<p>5 rows × 147 columns</p>\n",
       "</div>"
      ],
      "text/plain": [
       "           Team Conference  Games  Win  Loss  Off.Rank  Off.Plays  Off.Yards  \\\n",
       "0        Akron         MAC     12    5     7       106        837       4104   \n",
       "1      Alabama         SEC     13   11     2        33        826       5903   \n",
       "2      Arizona      Pac-12     13    8     5        31       1030       5960   \n",
       "3  Arizona St.      Pac-12     14   10     4        32       1102       6402   \n",
       "4     Arkansas         SEC     12    3     9        99        775       4286   \n",
       "\n",
       "   Off.Yards.Play  Off.TDs  ...  Average.Time.of.Possession.per.Game  \\\n",
       "0            4.90       30  ...                                29:20   \n",
       "1            7.15       58  ...                                32:00   \n",
       "2            5.79       52  ...                                28:30   \n",
       "3            5.81       64  ...                                30:21   \n",
       "4            5.53       29  ...                                30:26   \n",
       "\n",
       "   Turnover.Rank  Fumbles.Recovered  Opponents.Intercepted  Turnovers.Gain  \\\n",
       "0             74                  6                     13              19   \n",
       "1             48                  8                     11              19   \n",
       "2             39                  4                     18              22   \n",
       "3              7                 12                     21              33   \n",
       "4            111                  6                      8              14   \n",
       "\n",
       "   Fumbles.Lost  Interceptions.Thrown.y  Turnovers.Lost  Turnover.Margin  \\\n",
       "0            11                      10              21               -2   \n",
       "1            10                       7              17                2   \n",
       "2            11                       7              18                4   \n",
       "3             6                      12              18               15   \n",
       "4            12                      11              23               -9   \n",
       "\n",
       "   Avg.Turnover.Margin.per.Game  \n",
       "0                         -0.17  \n",
       "1                          0.15  \n",
       "2                          0.31  \n",
       "3                          1.07  \n",
       "4                         -0.75  \n",
       "\n",
       "[5 rows x 147 columns]"
      ]
     },
     "execution_count": 5,
     "metadata": {},
     "output_type": "execute_result"
    }
   ],
   "source": [
    "#Test to see if it worked:\n",
    "dataframes_list[0].head()"
   ]
  },
  {
   "cell_type": "code",
   "execution_count": null,
   "id": "69a304c3",
   "metadata": {},
   "outputs": [],
   "source": [
    "#Testing how to replace the Team name without the conference attached\n",
    "df0 = dataframes_list[0]\n",
    "team_only = []\n",
    "teams = list(df0[\"Team\"])\n",
    "\n",
    "for x in teams:\n",
    "\n",
    "        x = x.split(\"(\", 1)[0]\n",
    "        team_only.append(x)\n",
    "\n",
    "team_only = pd.DataFrame(team_only)\n",
    "\n",
    "df0[\"Team\"] = team_only[0]\n"
   ]
  },
  {
   "cell_type": "code",
   "execution_count": null,
   "id": "cfcaad1d",
   "metadata": {},
   "outputs": [],
   "source": [
    "#Adds a key-value pair to a dictionary. If the key already exists in the dictionary, it will associate multiple values with that key instead of overwritting its value.\n",
    "def add_value(dict_obj, key, value):\n",
    "    if key not in dict_obj:\n",
    "        dict_obj[key] = value\n",
    "    elif isinstance(dict_obj[key], list):\n",
    "        dict_obj[key].append(value)\n",
    "    else:\n",
    "        dict_obj[key] = [dict_obj[key], value]"
   ]
  },
  {
   "cell_type": "code",
   "execution_count": null,
   "id": "9107ca0d",
   "metadata": {},
   "outputs": [],
   "source": [
    "#Make a For Loop that applies the new column to each Dataset while creating a Dictionary with Teams that are missing Conference names.\n",
    "iterator = 0\n",
    "no_conf_name = {}\n",
    "\n",
    "for i in dataframes_list:\n",
    "    df=pd.DataFrame(dataframes_list[iterator])\n",
    "    teams = list(df.Team)\n",
    "    conf_only = []\n",
    "    team_only = []\n",
    "\n",
    "    for x in teams:\n",
    "        conf_only.append(x[x.find('(')+1:x.find(')')])\n",
    "\n",
    "        if x[x.find('(')+1:x.find(')')] == \"\":\n",
    "            add_value(no_conf_name, iterator, x)\n",
    "        \n",
    "        x = x.split(\"(\", 1)[0]\n",
    "        team_only.append(x)\n",
    "\n",
    "    df.insert(loc = 1,\n",
    "                column = 'Conference',\n",
    "                value = conf_only)\n",
    "    \n",
    "    team_only = pd.DataFrame(team_only)\n",
    "    \n",
    "    df[\"Team\"] = team_only[0]\n",
    "    \n",
    "    iterator+=1"
   ]
  },
  {
   "cell_type": "code",
   "execution_count": null,
   "id": "acb1b590",
   "metadata": {},
   "outputs": [],
   "source": [
    "#Verify it worked\n",
    "df=dataframes_list[0]\n",
    "df.head()"
   ]
  },
  {
   "cell_type": "code",
   "execution_count": null,
   "id": "289d8bfd",
   "metadata": {},
   "outputs": [],
   "source": [
    "df=dataframes_list[1]\n",
    "df.head()"
   ]
  },
  {
   "cell_type": "code",
   "execution_count": null,
   "id": "96e79349",
   "metadata": {},
   "outputs": [],
   "source": [
    "df=dataframes_list[2]\n",
    "df.head()"
   ]
  },
  {
   "cell_type": "code",
   "execution_count": null,
   "id": "4c0a31ee",
   "metadata": {},
   "outputs": [],
   "source": [
    "#What are the teams missing conference names and which Dataframe where they in within the List?\n",
    "print(no_conf_name)"
   ]
  },
  {
   "cell_type": "code",
   "execution_count": null,
   "id": "480f0c8f",
   "metadata": {},
   "outputs": [],
   "source": [
    "#Now load in the first DF with a missing conference name.\n",
    "df0 = dataframes_list[0]\n",
    "df0.head()"
   ]
  },
  {
   "cell_type": "code",
   "execution_count": null,
   "id": "00f2a547",
   "metadata": {},
   "outputs": [],
   "source": [
    "#Find the index of the team with the missing conference name and add it to the Name and Conference column.\n",
    "df0.index[df0['Conference']== \"\" ].tolist()"
   ]
  },
  {
   "cell_type": "code",
   "execution_count": null,
   "id": "986d7dac",
   "metadata": {},
   "outputs": [],
   "source": [
    "#Apply the new name and add conference name\n",
    "df0.iat[68,0] = \"Ole Miss (SEC)\"\n",
    "df0.iat[68,1] = \"SEC\""
   ]
  },
  {
   "cell_type": "code",
   "execution_count": null,
   "id": "3731ec15",
   "metadata": {},
   "outputs": [],
   "source": [
    "#Verify it was successful\n",
    "df0.iat[68,0]"
   ]
  },
  {
   "cell_type": "code",
   "execution_count": null,
   "id": "ea8a0b47",
   "metadata": {},
   "outputs": [],
   "source": [
    "df0.iat[68,1]"
   ]
  },
  {
   "cell_type": "code",
   "execution_count": null,
   "id": "0f44710c",
   "metadata": {},
   "outputs": [],
   "source": [
    "#Do the same to the other Dataframe\n",
    "df1 = dataframes_list[1]\n",
    "df1.index[df1['Conference']== \"\" ].tolist()"
   ]
  },
  {
   "cell_type": "code",
   "execution_count": null,
   "id": "1a6f92a4",
   "metadata": {},
   "outputs": [],
   "source": [
    "df1.iat[69,0] = \"Ole Miss (SEC)\"\n",
    "df1.iat[69,1] = \"SEC\""
   ]
  },
  {
   "cell_type": "code",
   "execution_count": null,
   "id": "224d0d44",
   "metadata": {},
   "outputs": [],
   "source": [
    "df1.iat[73,0] = \"Pittsburgh (ACC)\"\n",
    "df1.iat[73,1] = \"ACC\""
   ]
  },
  {
   "cell_type": "code",
   "execution_count": null,
   "id": "f4ea3536",
   "metadata": {},
   "outputs": [],
   "source": [
    "df1.index[df1['Conference']== \"\" ].tolist()"
   ]
  }
 ],
 "metadata": {
  "kernelspec": {
   "display_name": "Python 3.10.6 ('cfb')",
   "language": "python",
   "name": "python3"
  },
  "language_info": {
   "codemirror_mode": {
    "name": "ipython",
    "version": 3
   },
   "file_extension": ".py",
   "mimetype": "text/x-python",
   "name": "python",
   "nbconvert_exporter": "python",
   "pygments_lexer": "ipython3",
   "version": "3.10.6"
  },
  "vscode": {
   "interpreter": {
    "hash": "db16622fd92de6b4b3e6ecc7430c163675d01ddce9b5e1720e3549e30548e89f"
   }
  }
 },
 "nbformat": 4,
 "nbformat_minor": 5
}
