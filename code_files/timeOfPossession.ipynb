{
 "cells": [
  {
   "cell_type": "code",
   "execution_count": 18,
   "metadata": {},
   "outputs": [],
   "source": [
    "# Dependencies and setup\n",
    "import pandas as pd\n",
    "import re\n",
    "import os\n",
    "import glob\n",
    "from cfExtract import conferenceExtract"
   ]
  },
  {
   "cell_type": "code",
   "execution_count": 19,
   "metadata": {},
   "outputs": [],
   "source": [
    "#Files to load\n",
    "college_football_data = '../source_data/cfb*.csv'\n",
    "all_files = glob.glob(college_football_data)\n",
    "dataframes_list = []"
   ]
  },
  {
   "cell_type": "code",
   "execution_count": 20,
   "metadata": {},
   "outputs": [],
   "source": [
    "#For Loop to put each csv into a list\n",
    "for x in all_files:\n",
    "    temp_df = pd.read_csv(x)\n",
    "    dataframes_list.append(temp_df)"
   ]
  },
  {
   "cell_type": "code",
   "execution_count": null,
   "metadata": {},
   "outputs": [],
   "source": [
    "#Perform Conference Extraction and Column addition\n",
    "conferenceExtract(dataframes_list)"
   ]
  },
  {
   "cell_type": "code",
   "execution_count": 21,
   "metadata": {},
   "outputs": [],
   "source": [
    "df0 = dataframes_list[0]"
   ]
  },
  {
   "cell_type": "code",
   "execution_count": 23,
   "metadata": {},
   "outputs": [
    {
     "data": {
      "text/plain": [
       "True"
      ]
     },
     "execution_count": 23,
     "metadata": {},
     "output_type": "execute_result"
    }
   ],
   "source": [
    "#Verifying what type of objects are in the Time Of Possession Column\n",
    "isinstance((df0['Time.of.Possession'][0]), str)"
   ]
  },
  {
   "cell_type": "code",
   "execution_count": 25,
   "metadata": {},
   "outputs": [
    {
     "name": "stdout",
     "output_type": "stream",
     "text": [
      "Time in Seconds: 100\n"
     ]
    }
   ],
   "source": [
    "#Write function that will convert Hours:Minutes String Object into a seconds Int\n",
    "def get_seconds(time_str):\n",
    "    # split in mm, ss\n",
    "    mm, ss = time_str.split(':')\n",
    "    return int(mm) * 60 + int(ss)\n",
    "\n",
    "print('Time in Seconds:', get_seconds('1:40'))"
   ]
  },
  {
   "cell_type": "code",
   "execution_count": 26,
   "metadata": {},
   "outputs": [
    {
     "data": {
      "text/plain": [
       "24964"
      ]
     },
     "execution_count": 26,
     "metadata": {},
     "output_type": "execute_result"
    }
   ],
   "source": [
    "#Testing\n",
    "get_seconds(df0['Time.of.Possession'][1])"
   ]
  },
  {
   "cell_type": "code",
   "execution_count": null,
   "metadata": {},
   "outputs": [],
   "source": [
    "type(dataframes_list[0])"
   ]
  },
  {
   "cell_type": "code",
   "execution_count": null,
   "metadata": {},
   "outputs": [],
   "source": [
    "df0.columns.get_loc(\"Time.of.Possession\")"
   ]
  },
  {
   "cell_type": "code",
   "execution_count": 44,
   "metadata": {},
   "outputs": [
    {
     "data": {
      "text/plain": [
       "141"
      ]
     },
     "execution_count": 44,
     "metadata": {},
     "output_type": "execute_result"
    }
   ],
   "source": [
    "dataframes_list[8].columns.get_loc(\"Time of Possession\")"
   ]
  },
  {
   "cell_type": "code",
   "execution_count": null,
   "metadata": {},
   "outputs": [],
   "source": [
    "df0.iloc[:, 136]"
   ]
  },
  {
   "cell_type": "code",
   "execution_count": null,
   "metadata": {},
   "outputs": [],
   "source": [
    "df0"
   ]
  },
  {
   "cell_type": "code",
   "execution_count": null,
   "metadata": {},
   "outputs": [],
   "source": [
    "list(df0['Time.of.Possession'])"
   ]
  },
  {
   "cell_type": "code",
   "execution_count": null,
   "metadata": {},
   "outputs": [],
   "source": [
    "df0['Time.of.Possession']"
   ]
  },
  {
   "cell_type": "code",
   "execution_count": 33,
   "metadata": {},
   "outputs": [],
   "source": [
    "df8=dataframes_list[8]"
   ]
  },
  {
   "cell_type": "code",
   "execution_count": null,
   "metadata": {},
   "outputs": [],
   "source": [
    "dataframes_list"
   ]
  },
  {
   "cell_type": "code",
   "execution_count": null,
   "metadata": {},
   "outputs": [],
   "source": [
    "# ^Time(\\s|\\.)of(\\s|\\.)Possession$\n",
    "\n",
    "#The regex above matches \"Time.of.Possession\" or \"Time of Possession\"\n",
    "#My next step is working it into the function somehow."
   ]
  },
  {
   "cell_type": "code",
   "execution_count": 30,
   "metadata": {},
   "outputs": [
    {
     "ename": "KeyError",
     "evalue": "'Time.of.Possession'",
     "output_type": "error",
     "traceback": [
      "\u001b[1;31m---------------------------------------------------------------------------\u001b[0m",
      "\u001b[1;31mKeyError\u001b[0m                                  Traceback (most recent call last)",
      "File \u001b[1;32mc:\\Users\\josrh\\anaconda3\\envs\\cfb\\lib\\site-packages\\pandas\\core\\indexes\\base.py:3629\u001b[0m, in \u001b[0;36mIndex.get_loc\u001b[1;34m(self, key, method, tolerance)\u001b[0m\n\u001b[0;32m   3628\u001b[0m \u001b[39mtry\u001b[39;00m:\n\u001b[1;32m-> 3629\u001b[0m     \u001b[39mreturn\u001b[39;00m \u001b[39mself\u001b[39;49m\u001b[39m.\u001b[39;49m_engine\u001b[39m.\u001b[39;49mget_loc(casted_key)\n\u001b[0;32m   3630\u001b[0m \u001b[39mexcept\u001b[39;00m \u001b[39mKeyError\u001b[39;00m \u001b[39mas\u001b[39;00m err:\n",
      "File \u001b[1;32mc:\\Users\\josrh\\anaconda3\\envs\\cfb\\lib\\site-packages\\pandas\\_libs\\index.pyx:136\u001b[0m, in \u001b[0;36mpandas._libs.index.IndexEngine.get_loc\u001b[1;34m()\u001b[0m\n",
      "File \u001b[1;32mc:\\Users\\josrh\\anaconda3\\envs\\cfb\\lib\\site-packages\\pandas\\_libs\\index.pyx:163\u001b[0m, in \u001b[0;36mpandas._libs.index.IndexEngine.get_loc\u001b[1;34m()\u001b[0m\n",
      "File \u001b[1;32mpandas\\_libs\\hashtable_class_helper.pxi:5198\u001b[0m, in \u001b[0;36mpandas._libs.hashtable.PyObjectHashTable.get_item\u001b[1;34m()\u001b[0m\n",
      "File \u001b[1;32mpandas\\_libs\\hashtable_class_helper.pxi:5206\u001b[0m, in \u001b[0;36mpandas._libs.hashtable.PyObjectHashTable.get_item\u001b[1;34m()\u001b[0m\n",
      "\u001b[1;31mKeyError\u001b[0m: 'Time.of.Possession'",
      "\nThe above exception was the direct cause of the following exception:\n",
      "\u001b[1;31mKeyError\u001b[0m                                  Traceback (most recent call last)",
      "\u001b[1;32mc:\\Users\\josrh\\Desktop\\Stuff\\Code_Projects\\College_Football\\College_Football_Analysis\\code_files\\timeOfPossession.ipynb Cell 16\u001b[0m in \u001b[0;36m<cell line: 3>\u001b[1;34m()\u001b[0m\n\u001b[0;32m      <a href='vscode-notebook-cell:/c%3A/Users/josrh/Desktop/Stuff/Code_Projects/College_Football/College_Football_Analysis/code_files/timeOfPossession.ipynb#X14sZmlsZQ%3D%3D?line=2'>3</a>\u001b[0m \u001b[39mfor\u001b[39;00m i \u001b[39min\u001b[39;00m dataframes_list:\n\u001b[0;32m      <a href='vscode-notebook-cell:/c%3A/Users/josrh/Desktop/Stuff/Code_Projects/College_Football/College_Football_Analysis/code_files/timeOfPossession.ipynb#X14sZmlsZQ%3D%3D?line=3'>4</a>\u001b[0m     df\u001b[39m=\u001b[39mdataframes_list[iterator]\n\u001b[1;32m----> <a href='vscode-notebook-cell:/c%3A/Users/josrh/Desktop/Stuff/Code_Projects/College_Football/College_Football_Analysis/code_files/timeOfPossession.ipynb#X14sZmlsZQ%3D%3D?line=4'>5</a>\u001b[0m     top \u001b[39m=\u001b[39m \u001b[39mlist\u001b[39m(df[\u001b[39m'\u001b[39;49m\u001b[39mTime.of.Possession\u001b[39;49m\u001b[39m'\u001b[39;49m])\n\u001b[0;32m      <a href='vscode-notebook-cell:/c%3A/Users/josrh/Desktop/Stuff/Code_Projects/College_Football/College_Football_Analysis/code_files/timeOfPossession.ipynb#X14sZmlsZQ%3D%3D?line=6'>7</a>\u001b[0m     intTop \u001b[39m=\u001b[39m []\n\u001b[0;32m      <a href='vscode-notebook-cell:/c%3A/Users/josrh/Desktop/Stuff/Code_Projects/College_Football/College_Football_Analysis/code_files/timeOfPossession.ipynb#X14sZmlsZQ%3D%3D?line=8'>9</a>\u001b[0m     \u001b[39mfor\u001b[39;00m x \u001b[39min\u001b[39;00m top:\n",
      "File \u001b[1;32mc:\\Users\\josrh\\anaconda3\\envs\\cfb\\lib\\site-packages\\pandas\\core\\frame.py:3505\u001b[0m, in \u001b[0;36mDataFrame.__getitem__\u001b[1;34m(self, key)\u001b[0m\n\u001b[0;32m   3503\u001b[0m \u001b[39mif\u001b[39;00m \u001b[39mself\u001b[39m\u001b[39m.\u001b[39mcolumns\u001b[39m.\u001b[39mnlevels \u001b[39m>\u001b[39m \u001b[39m1\u001b[39m:\n\u001b[0;32m   3504\u001b[0m     \u001b[39mreturn\u001b[39;00m \u001b[39mself\u001b[39m\u001b[39m.\u001b[39m_getitem_multilevel(key)\n\u001b[1;32m-> 3505\u001b[0m indexer \u001b[39m=\u001b[39m \u001b[39mself\u001b[39;49m\u001b[39m.\u001b[39;49mcolumns\u001b[39m.\u001b[39;49mget_loc(key)\n\u001b[0;32m   3506\u001b[0m \u001b[39mif\u001b[39;00m is_integer(indexer):\n\u001b[0;32m   3507\u001b[0m     indexer \u001b[39m=\u001b[39m [indexer]\n",
      "File \u001b[1;32mc:\\Users\\josrh\\anaconda3\\envs\\cfb\\lib\\site-packages\\pandas\\core\\indexes\\base.py:3631\u001b[0m, in \u001b[0;36mIndex.get_loc\u001b[1;34m(self, key, method, tolerance)\u001b[0m\n\u001b[0;32m   3629\u001b[0m     \u001b[39mreturn\u001b[39;00m \u001b[39mself\u001b[39m\u001b[39m.\u001b[39m_engine\u001b[39m.\u001b[39mget_loc(casted_key)\n\u001b[0;32m   3630\u001b[0m \u001b[39mexcept\u001b[39;00m \u001b[39mKeyError\u001b[39;00m \u001b[39mas\u001b[39;00m err:\n\u001b[1;32m-> 3631\u001b[0m     \u001b[39mraise\u001b[39;00m \u001b[39mKeyError\u001b[39;00m(key) \u001b[39mfrom\u001b[39;00m \u001b[39merr\u001b[39;00m\n\u001b[0;32m   3632\u001b[0m \u001b[39mexcept\u001b[39;00m \u001b[39mTypeError\u001b[39;00m:\n\u001b[0;32m   3633\u001b[0m     \u001b[39m# If we have a listlike key, _check_indexing_error will raise\u001b[39;00m\n\u001b[0;32m   3634\u001b[0m     \u001b[39m#  InvalidIndexError. Otherwise we fall through and re-raise\u001b[39;00m\n\u001b[0;32m   3635\u001b[0m     \u001b[39m#  the TypeError.\u001b[39;00m\n\u001b[0;32m   3636\u001b[0m     \u001b[39mself\u001b[39m\u001b[39m.\u001b[39m_check_indexing_error(key)\n",
      "\u001b[1;31mKeyError\u001b[0m: 'Time.of.Possession'"
     ]
    }
   ],
   "source": [
    "iterator = 0\n",
    "\n",
    "for i in dataframes_list:\n",
    "    df=dataframes_list[iterator]\n",
    "    top = list(df['Time.of.Possession'])\n",
    "\n",
    "    intTop = []\n",
    "\n",
    "    for x in top:\n",
    "\n",
    "        mm, ss = x.split(':')\n",
    "        \n",
    "        x = (int( int(mm) * 60 + int(ss)))\n",
    "\n",
    "        intTop.append(x)\n",
    "\n",
    "    intTop = pd.DataFrame(intTop)\n",
    "\n",
    "    df['Time.of.Possession'] = intTop[0]\n",
    "\n",
    "    iterator+=1"
   ]
  },
  {
   "cell_type": "code",
   "execution_count": 32,
   "metadata": {},
   "outputs": [
    {
     "data": {
      "text/plain": [
       "numpy.int64"
      ]
     },
     "execution_count": 32,
     "metadata": {},
     "output_type": "execute_result"
    }
   ],
   "source": [
    "type(df0['Time.of.Possession'][0])"
   ]
  },
  {
   "cell_type": "code",
   "execution_count": null,
   "metadata": {},
   "outputs": [],
   "source": [
    "#Write a function that loops over the TOP and Avg TOP columns and replaces them with their values converted to Seconds.\n",
    "def topConvert(DataFrameList):\n",
    "    import pandas as pd\n",
    "    iterator = 0\n",
    "\n",
    "    for i in DataFrameList:\n",
    "        df=DataFrameList[iterator]\n",
    "        top = list(df['Time.of.Possession'])\n",
    "\n",
    "        intTop = []\n",
    "\n",
    "        for x in top:\n",
    "\n",
    "            mm, ss = x.split(':')\n",
    "            \n",
    "            x = (int( int(mm) * 60 + int(ss)))\n",
    "\n",
    "            intTop.append(x)\n",
    "\n",
    "        intTop = pd.DataFrame(intTop)\n",
    "\n",
    "        df['Time.of.Possession'] = intTop[0]\n",
    "    \n",
    "        iterator+=1"
   ]
  },
  {
   "cell_type": "code",
   "execution_count": null,
   "metadata": {},
   "outputs": [],
   "source": [
    "topConvert(dataframes_list)"
   ]
  }
 ],
 "metadata": {
  "kernelspec": {
   "display_name": "Python 3.10.6 ('cfb')",
   "language": "python",
   "name": "python3"
  },
  "language_info": {
   "codemirror_mode": {
    "name": "ipython",
    "version": 3
   },
   "file_extension": ".py",
   "mimetype": "text/x-python",
   "name": "python",
   "nbconvert_exporter": "python",
   "pygments_lexer": "ipython3",
   "version": "3.10.6"
  },
  "orig_nbformat": 4,
  "vscode": {
   "interpreter": {
    "hash": "db16622fd92de6b4b3e6ecc7430c163675d01ddce9b5e1720e3549e30548e89f"
   }
  }
 },
 "nbformat": 4,
 "nbformat_minor": 2
}
