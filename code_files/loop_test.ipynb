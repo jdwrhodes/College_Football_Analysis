{
 "cells": [
  {
   "cell_type": "code",
   "execution_count": 2,
   "id": "9519ddd5",
   "metadata": {},
   "outputs": [],
   "source": [
    "# Dependencies and setup\n",
    "import pandas as pd\n",
    "import os\n",
    "import glob"
   ]
  },
  {
   "cell_type": "code",
   "execution_count": 3,
   "id": "4efe0b21",
   "metadata": {},
   "outputs": [],
   "source": [
    "#Files to load\n",
    "college_football_data = '../source_data/cfb*.csv'\n",
    "all_files = glob.glob(college_football_data)\n",
    "dataframes_list = []"
   ]
  },
  {
   "cell_type": "code",
   "execution_count": 4,
   "id": "a42aef5e",
   "metadata": {},
   "outputs": [],
   "source": [
    "#For Loop to put each csv into a list\n",
    "for x in all_files:\n",
    "    temp_df = pd.read_csv(x)\n",
    "    dataframes_list.append(temp_df)"
   ]
  },
  {
   "cell_type": "code",
   "execution_count": 5,
   "id": "a2710033",
   "metadata": {},
   "outputs": [
    {
     "data": {
      "text/html": [
       "<div>\n",
       "<style scoped>\n",
       "    .dataframe tbody tr th:only-of-type {\n",
       "        vertical-align: middle;\n",
       "    }\n",
       "\n",
       "    .dataframe tbody tr th {\n",
       "        vertical-align: top;\n",
       "    }\n",
       "\n",
       "    .dataframe thead th {\n",
       "        text-align: right;\n",
       "    }\n",
       "</style>\n",
       "<table border=\"1\" class=\"dataframe\">\n",
       "  <thead>\n",
       "    <tr style=\"text-align: right;\">\n",
       "      <th></th>\n",
       "      <th>Team</th>\n",
       "      <th>Games</th>\n",
       "      <th>Win</th>\n",
       "      <th>Loss</th>\n",
       "      <th>Off.Rank</th>\n",
       "      <th>Off.Plays</th>\n",
       "      <th>Off.Yards</th>\n",
       "      <th>Off.Yards.Play</th>\n",
       "      <th>Off.TDs</th>\n",
       "      <th>Total.TDs</th>\n",
       "      <th>...</th>\n",
       "      <th>Average.Time.of.Possession.per.Game</th>\n",
       "      <th>Turnover.Rank</th>\n",
       "      <th>Fumbles.Recovered</th>\n",
       "      <th>Opponents.Intercepted</th>\n",
       "      <th>Turnovers.Gain</th>\n",
       "      <th>Fumbles.Lost</th>\n",
       "      <th>Interceptions.Thrown.y</th>\n",
       "      <th>Turnovers.Lost</th>\n",
       "      <th>Turnover.Margin</th>\n",
       "      <th>Avg.Turnover.Margin.per.Game</th>\n",
       "    </tr>\n",
       "  </thead>\n",
       "  <tbody>\n",
       "    <tr>\n",
       "      <th>68</th>\n",
       "      <td>Ole Miss ()</td>\n",
       "      <td>13</td>\n",
       "      <td>8</td>\n",
       "      <td>5</td>\n",
       "      <td>21</td>\n",
       "      <td>1018</td>\n",
       "      <td>6153</td>\n",
       "      <td>6.04</td>\n",
       "      <td>46</td>\n",
       "      <td>49</td>\n",
       "      <td>...</td>\n",
       "      <td>29:44</td>\n",
       "      <td>56</td>\n",
       "      <td>9</td>\n",
       "      <td>13</td>\n",
       "      <td>22</td>\n",
       "      <td>8</td>\n",
       "      <td>13</td>\n",
       "      <td>21</td>\n",
       "      <td>1</td>\n",
       "      <td>0.08</td>\n",
       "    </tr>\n",
       "  </tbody>\n",
       "</table>\n",
       "<p>1 rows × 146 columns</p>\n",
       "</div>"
      ],
      "text/plain": [
       "           Team  Games  Win  Loss  Off.Rank  Off.Plays  Off.Yards  \\\n",
       "68  Ole Miss ()     13    8     5        21       1018       6153   \n",
       "\n",
       "    Off.Yards.Play  Off.TDs  Total.TDs  ...  \\\n",
       "68            6.04       46         49  ...   \n",
       "\n",
       "    Average.Time.of.Possession.per.Game  Turnover.Rank  Fumbles.Recovered  \\\n",
       "68                                29:44             56                  9   \n",
       "\n",
       "    Opponents.Intercepted  Turnovers.Gain  Fumbles.Lost  \\\n",
       "68                     13              22             8   \n",
       "\n",
       "    Interceptions.Thrown.y  Turnovers.Lost  Turnover.Margin  \\\n",
       "68                      13              21                1   \n",
       "\n",
       "    Avg.Turnover.Margin.per.Game  \n",
       "68                          0.08  \n",
       "\n",
       "[1 rows x 146 columns]"
      ]
     },
     "execution_count": 5,
     "metadata": {},
     "output_type": "execute_result"
    }
   ],
   "source": [
    "df=pd.DataFrame(dataframes_list[0])\n",
    "df[df['Team'].str.endswith(\"()\")]"
   ]
  },
  {
   "cell_type": "code",
   "execution_count": 6,
   "id": "509f0fa7",
   "metadata": {},
   "outputs": [
    {
     "data": {
      "text/html": [
       "<div>\n",
       "<style scoped>\n",
       "    .dataframe tbody tr th:only-of-type {\n",
       "        vertical-align: middle;\n",
       "    }\n",
       "\n",
       "    .dataframe tbody tr th {\n",
       "        vertical-align: top;\n",
       "    }\n",
       "\n",
       "    .dataframe thead th {\n",
       "        text-align: right;\n",
       "    }\n",
       "</style>\n",
       "<table border=\"1\" class=\"dataframe\">\n",
       "  <thead>\n",
       "    <tr style=\"text-align: right;\">\n",
       "      <th></th>\n",
       "      <th>Team</th>\n",
       "      <th>Games</th>\n",
       "      <th>Win</th>\n",
       "      <th>Loss</th>\n",
       "      <th>Off.Rank</th>\n",
       "      <th>Off.Plays</th>\n",
       "      <th>Off.Yards</th>\n",
       "      <th>Off.Yards.Play</th>\n",
       "      <th>Off.TDs</th>\n",
       "      <th>Total.TDs</th>\n",
       "      <th>...</th>\n",
       "      <th>Average.Time.of.Possession.per.Game</th>\n",
       "      <th>Turnover.Rank</th>\n",
       "      <th>Fumbles.Recovered</th>\n",
       "      <th>Opponents.Intercepted</th>\n",
       "      <th>Turnovers.Gain</th>\n",
       "      <th>Fumbles.Lost</th>\n",
       "      <th>Interceptions.Thrown.y</th>\n",
       "      <th>Turnovers.Lost</th>\n",
       "      <th>Turnover.Margin</th>\n",
       "      <th>Avg.Turnover.Margin.per.Game</th>\n",
       "    </tr>\n",
       "  </thead>\n",
       "  <tbody>\n",
       "    <tr>\n",
       "      <th>69</th>\n",
       "      <td>Ole Miss ()</td>\n",
       "      <td>13</td>\n",
       "      <td>9</td>\n",
       "      <td>4</td>\n",
       "      <td>51</td>\n",
       "      <td>904</td>\n",
       "      <td>5448</td>\n",
       "      <td>6.03</td>\n",
       "      <td>45</td>\n",
       "      <td>49</td>\n",
       "      <td>...</td>\n",
       "      <td>28:14</td>\n",
       "      <td>27</td>\n",
       "      <td>10</td>\n",
       "      <td>22</td>\n",
       "      <td>32</td>\n",
       "      <td>10</td>\n",
       "      <td>15</td>\n",
       "      <td>25</td>\n",
       "      <td>7</td>\n",
       "      <td>0.54</td>\n",
       "    </tr>\n",
       "    <tr>\n",
       "      <th>73</th>\n",
       "      <td>Pittsburgh ()</td>\n",
       "      <td>13</td>\n",
       "      <td>6</td>\n",
       "      <td>7</td>\n",
       "      <td>40</td>\n",
       "      <td>918</td>\n",
       "      <td>5660</td>\n",
       "      <td>6.17</td>\n",
       "      <td>52</td>\n",
       "      <td>52</td>\n",
       "      <td>...</td>\n",
       "      <td>33:49</td>\n",
       "      <td>95</td>\n",
       "      <td>4</td>\n",
       "      <td>10</td>\n",
       "      <td>14</td>\n",
       "      <td>12</td>\n",
       "      <td>7</td>\n",
       "      <td>19</td>\n",
       "      <td>-5</td>\n",
       "      <td>-0.38</td>\n",
       "    </tr>\n",
       "  </tbody>\n",
       "</table>\n",
       "<p>2 rows × 146 columns</p>\n",
       "</div>"
      ],
      "text/plain": [
       "             Team  Games  Win  Loss  Off.Rank  Off.Plays  Off.Yards  \\\n",
       "69    Ole Miss ()     13    9     4        51        904       5448   \n",
       "73  Pittsburgh ()     13    6     7        40        918       5660   \n",
       "\n",
       "    Off.Yards.Play  Off.TDs  Total.TDs  ...  \\\n",
       "69            6.03       45         49  ...   \n",
       "73            6.17       52         52  ...   \n",
       "\n",
       "    Average.Time.of.Possession.per.Game  Turnover.Rank  Fumbles.Recovered  \\\n",
       "69                                28:14             27                 10   \n",
       "73                                33:49             95                  4   \n",
       "\n",
       "    Opponents.Intercepted  Turnovers.Gain  Fumbles.Lost  \\\n",
       "69                     22              32            10   \n",
       "73                     10              14            12   \n",
       "\n",
       "    Interceptions.Thrown.y  Turnovers.Lost  Turnover.Margin  \\\n",
       "69                      15              25                7   \n",
       "73                       7              19               -5   \n",
       "\n",
       "    Avg.Turnover.Margin.per.Game  \n",
       "69                          0.54  \n",
       "73                         -0.38  \n",
       "\n",
       "[2 rows x 146 columns]"
      ]
     },
     "execution_count": 6,
     "metadata": {},
     "output_type": "execute_result"
    }
   ],
   "source": [
    "df=pd.DataFrame(dataframes_list[1])\n",
    "df[df['Team'].str.endswith(\"()\")]"
   ]
  },
  {
   "cell_type": "code",
   "execution_count": 7,
   "id": "78d48139",
   "metadata": {},
   "outputs": [
    {
     "data": {
      "text/html": [
       "<div>\n",
       "<style scoped>\n",
       "    .dataframe tbody tr th:only-of-type {\n",
       "        vertical-align: middle;\n",
       "    }\n",
       "\n",
       "    .dataframe tbody tr th {\n",
       "        vertical-align: top;\n",
       "    }\n",
       "\n",
       "    .dataframe thead th {\n",
       "        text-align: right;\n",
       "    }\n",
       "</style>\n",
       "<table border=\"1\" class=\"dataframe\">\n",
       "  <thead>\n",
       "    <tr style=\"text-align: right;\">\n",
       "      <th></th>\n",
       "      <th>Team</th>\n",
       "      <th>Games</th>\n",
       "      <th>Win</th>\n",
       "      <th>Loss</th>\n",
       "      <th>Off.Rank</th>\n",
       "      <th>Off.Plays</th>\n",
       "      <th>Off.Yards</th>\n",
       "      <th>Off.Yards.Play</th>\n",
       "      <th>Off.TDs</th>\n",
       "      <th>Total.TDs</th>\n",
       "      <th>...</th>\n",
       "      <th>Average.Time.of.Possession.per.Game</th>\n",
       "      <th>Turnover.Rank</th>\n",
       "      <th>Fumbles.Recovered</th>\n",
       "      <th>Opponents.Intercepted</th>\n",
       "      <th>Turnovers.Gain</th>\n",
       "      <th>Fumbles.Lost</th>\n",
       "      <th>Interceptions.Thrown.y</th>\n",
       "      <th>Turnovers.Lost</th>\n",
       "      <th>Turnover.Margin</th>\n",
       "      <th>Avg.Turnover.Margin.per.Game</th>\n",
       "    </tr>\n",
       "  </thead>\n",
       "  <tbody>\n",
       "  </tbody>\n",
       "</table>\n",
       "<p>0 rows × 146 columns</p>\n",
       "</div>"
      ],
      "text/plain": [
       "Empty DataFrame\n",
       "Columns: [Team, Games, Win, Loss, Off.Rank, Off.Plays, Off.Yards, Off.Yards.Play, Off.TDs, Total.TDs, Off.Yards.per.Game, Def.Rank, Def.Plays, Yards.Allowed, Yards.Play.Allowed, Off.TDs.Allowed, Total.TDs.Allowed, Yards.Per.Game.Allowed, First.Down.Rank, First.Down.Runs, First.Down.Passes, First.Down.Penalties, First.Downs, First.Down.Def.Rank, Opp.First.Down.Runs, Opp.First.Down.Passes, Opp.First.Down.Penalties, Opp.First.Downs, X4th.Down.Rank, X4th.Attempts, X4th.Conversions, X4th.Percent, X4rd.Down.Def.Rank, Opp.4th.Conversion, Opp.4th.Attempt, Opponent.4th.Percent, Kickoff.Return.Rank, Kickoffs.Returned, Kickoff.Return.Yards, Kickoff.Return.Touchdowns, Avg.Yard.per.Kickoff.Return, Passing.Off.Rank, Pass.Attempts, Pass.Completions, Interceptions.Thrown.x, Pass.Yards, Pass.Yards.Attempt, Yards.Completion, Pass.Touchdowns, Pass.Yards.Per.Game, Pass.Def.Rank, Opp.Completions.Allowed, Opp.Pass.Attempts, Opp.Pass.Yds.Allowed, Opp.Pass.TDs.Allowed, Yards.Attempt.Allowed, Yards.Completion.Allowed, Pass.Yards.Per.Game.Allowed, Penalty.Rank, Penalties, Penalty.Yards, Penalty.Yards.Per.Game, Punt.Return.Rank, Punt.Returns, Net.Punt.Return.Yards, Punt.Return.Touchdowns, Avg.Yards.Per.Punt.Return, Punt.Return.Def.Rank, Opp.Punt.Returns, Opp.Net.Punt.Return.Yards, Opp.Punt.Return.Touchdowns.Allowed, Avg.Yards.Allowed.per.Punt.Return, Redzone.Off.Rank, Redzone.Attempts, Redzone.Rush.TD, Redzone.Pass.TD, Redzone.Field.Goals.Made, Redzone.Scores, Redzone.Points, Redzone.Def.Rank, Opp.Redzone.Attempts, Opp.Redzone.Rush.TD.Allowed, Opp.Redzone.Pass.Touchdowns.Allowed, Opp.Redzone.Field.Goals.Made, Opp.Redzone.Scores, Redzone.Points.Allowed, Rushing.Off.Rank, Rush.Attempts, Rush.Yds, Yards.Rush, Rushing.TD, Rushing.Yards.per.Game, Rushing.Def.Rank, Opp.Rush.Attempts, Opp.Rush.Yards.Alloweed, Yds.Rush.Allowed, Opp.Rush.Touchdowns.Allowed, Rush.Yards.Per.Game.Allowed, Sack.Rank, Sacks, ...]\n",
       "Index: []\n",
       "\n",
       "[0 rows x 146 columns]"
      ]
     },
     "execution_count": 7,
     "metadata": {},
     "output_type": "execute_result"
    }
   ],
   "source": [
    "df=pd.DataFrame(dataframes_list[2])\n",
    "df[df['Team'].str.endswith(\"()\")]"
   ]
  },
  {
   "cell_type": "code",
   "execution_count": null,
   "id": "89bd37be",
   "metadata": {},
   "outputs": [],
   "source": [
    "for x in dataframes_list:\n",
    "    "
   ]
  },
  {
   "cell_type": "code",
   "execution_count": null,
   "id": "9107ca0d",
   "metadata": {},
   "outputs": [],
   "source": [
    "#Make a For Loop that applies the new column to each Dataset\n",
    "\n",
    "interator = 0\n",
    "no_conf_name = {}\n",
    "\n",
    "for i in dataframes_list:\n",
    "    df=pd.DataFrame(dataframes_list[interator])\n",
    "    conferences = list(df.Team)\n",
    "    conf_only = []\n",
    "\n",
    "    for x in conferences:\n",
    "        conf_only.append(x[x.find('(')+1:x.find(')')])\n",
    "\n",
    "    df.insert(loc = 1,\n",
    "                column = 'Conference',\n",
    "                value = conf_only)\n",
    "    interator+=1\n",
    "    \n",
    "    \n",
    "#I need to add an IF statement here to handle the missing conference name from Ole Miss & Pitt\n"
   ]
  },
  {
   "cell_type": "code",
   "execution_count": null,
   "id": "5711928a",
   "metadata": {},
   "outputs": [],
   "source": [
    "dataframes_list[0]"
   ]
  },
  {
   "cell_type": "code",
   "execution_count": null,
   "id": "44cb2b63",
   "metadata": {},
   "outputs": [],
   "source": [
    "#Get a list of the Column Names\n",
    "df = list(df.columns)"
   ]
  },
  {
   "cell_type": "code",
   "execution_count": null,
   "id": "0fe4924a",
   "metadata": {},
   "outputs": [],
   "source": [
    "#Figure out what other rows were missing the conference.\n",
    "df[df['Team'].str.endswith(\"()\")]"
   ]
  },
  {
   "cell_type": "code",
   "execution_count": null,
   "id": "9b72f961",
   "metadata": {},
   "outputs": [],
   "source": [
    "#Now I want to edit those cells and add the correct conference\n",
    "df.iat[68,0] = 'Ole Miss (SEC)'"
   ]
  },
  {
   "cell_type": "code",
   "execution_count": null,
   "id": "22848925",
   "metadata": {},
   "outputs": [],
   "source": [
    "#Now I'll get the SEC teams again\n",
    "df[df['Team'].str.contains('SEC')]"
   ]
  },
  {
   "cell_type": "code",
   "execution_count": null,
   "id": "d271f4c3",
   "metadata": {},
   "outputs": [],
   "source": [
    "#Verifying that all teams end with their conference in their name\n",
    "df[df['Team'].str.endswith(\"()\")]"
   ]
  },
  {
   "cell_type": "code",
   "execution_count": null,
   "id": "9cffcaa9",
   "metadata": {},
   "outputs": [],
   "source": [
    "#Next let's try to add the conference as a column.\n",
    "conferences = list(df.Team)"
   ]
  },
  {
   "cell_type": "code",
   "execution_count": null,
   "id": "20038087",
   "metadata": {},
   "outputs": [],
   "source": [
    "#I started by making an empty list that would contain the new column values.\n",
    "conf_only = []"
   ]
  },
  {
   "cell_type": "code",
   "execution_count": null,
   "id": "d59722ab",
   "metadata": {},
   "outputs": [],
   "source": [
    "#I then used a For loop to loop through the Team names and use two 'Find' operators to select only the letters that fell between the '()' in each name which had the conference info.\n",
    "for x in conferences:\n",
    "    conf_only.append(x[x.find('(')+1:x.find(')')])"
   ]
  },
  {
   "cell_type": "code",
   "execution_count": null,
   "id": "9ecec802",
   "metadata": {},
   "outputs": [],
   "source": [
    "#I then used 'Insert' to put the new column that contained only the names back into the dataframe.\n",
    "df.insert(loc = 1,\n",
    "                column = 'Conference',\n",
    "                value = conf_only)"
   ]
  },
  {
   "cell_type": "code",
   "execution_count": null,
   "id": "bea66b5b",
   "metadata": {},
   "outputs": [],
   "source": [
    "#Now Create a function or For Loop that will do this to each dataframe in the list in one step\n"
   ]
  },
  {
   "cell_type": "code",
   "execution_count": null,
   "id": "17062ff3",
   "metadata": {},
   "outputs": [],
   "source": [
    "#Try to determine which Stat/column has the most and least impact on Wins."
   ]
  }
 ],
 "metadata": {
  "kernelspec": {
   "display_name": "Python 3.10.6 ('cfb')",
   "language": "python",
   "name": "python3"
  },
  "language_info": {
   "codemirror_mode": {
    "name": "ipython",
    "version": 3
   },
   "file_extension": ".py",
   "mimetype": "text/x-python",
   "name": "python",
   "nbconvert_exporter": "python",
   "pygments_lexer": "ipython3",
   "version": "3.10.6"
  },
  "vscode": {
   "interpreter": {
    "hash": "db16622fd92de6b4b3e6ecc7430c163675d01ddce9b5e1720e3549e30548e89f"
   }
  }
 },
 "nbformat": 4,
 "nbformat_minor": 5
}
