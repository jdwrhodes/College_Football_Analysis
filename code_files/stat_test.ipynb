{
 "cells": [
  {
   "cell_type": "code",
   "execution_count": 1,
   "id": "9519ddd5",
   "metadata": {},
   "outputs": [],
   "source": [
    "# Dependencies and setup\n",
    "import pandas as pd\n",
    "import os\n",
    "import glob"
   ]
  },
  {
   "cell_type": "code",
   "execution_count": 2,
   "id": "4efe0b21",
   "metadata": {},
   "outputs": [],
   "source": [
    "#Files to load\n",
    "college_football_data = '../source_data/cfb*.csv'\n",
    "all_files = glob.glob(college_football_data)\n",
    "dataframes_list = []"
   ]
  },
  {
   "cell_type": "code",
   "execution_count": 3,
   "id": "a42aef5e",
   "metadata": {},
   "outputs": [],
   "source": [
    "#For Loop to put each csv into a list\n",
    "for x in all_files:\n",
    "    temp_df = pd.read_csv(x)\n",
    "    dataframes_list.append(temp_df)"
   ]
  },
  {
   "cell_type": "code",
   "execution_count": 4,
   "id": "cfcaad1d",
   "metadata": {},
   "outputs": [],
   "source": [
    "#Adds a key-value pair to a dictionary. If the key already exists in the dictionary, it will associate multiple values with that key instead of overwritting its value.\n",
    "def add_value(dict_obj, key, value):\n",
    "    if key not in dict_obj:\n",
    "        dict_obj[key] = value\n",
    "    elif isinstance(dict_obj[key], list):\n",
    "        dict_obj[key].append(value)\n",
    "    else:\n",
    "        dict_obj[key] = [dict_obj[key], value]"
   ]
  },
  {
   "cell_type": "code",
   "execution_count": 5,
   "id": "9107ca0d",
   "metadata": {},
   "outputs": [],
   "source": [
    "#Make a For Loop that applies the new column to each Dataset\n",
    "iterator = 0\n",
    "no_conf_name = {}\n",
    "\n",
    "for i in dataframes_list:\n",
    "    df=pd.DataFrame(dataframes_list[iterator])\n",
    "    teams = list(df.Team)\n",
    "    conf_only = []\n",
    "\n",
    "    for x in teams:\n",
    "        conf_only.append(x[x.find('(')+1:x.find(')')])\n",
    "\n",
    "        if x[x.find('(')+1:x.find(')')] == \"\":\n",
    "            add_value(no_conf_name, iterator, x)\n",
    "\n",
    "    df.insert(loc = 1,\n",
    "                column = 'Conference',\n",
    "                value = conf_only)\n",
    "    iterator+=1"
   ]
  },
  {
   "cell_type": "code",
   "execution_count": 6,
   "id": "4c0a31ee",
   "metadata": {},
   "outputs": [
    {
     "name": "stdout",
     "output_type": "stream",
     "text": [
      "{0: 'Ole Miss ()', 1: ['Ole Miss ()', 'Pittsburgh ()']}\n"
     ]
    }
   ],
   "source": [
    "print(no_conf_name)"
   ]
  },
  {
   "cell_type": "code",
   "execution_count": null,
   "id": "44cb2b63",
   "metadata": {},
   "outputs": [],
   "source": [
    "#Get a list of the Column Names\n",
    "df = list(df.columns)"
   ]
  },
  {
   "cell_type": "code",
   "execution_count": null,
   "id": "0fe4924a",
   "metadata": {},
   "outputs": [],
   "source": [
    "#Figure out what other rows were missing the conference.\n",
    "df[df['Team'].str.endswith(\"()\")]"
   ]
  },
  {
   "cell_type": "code",
   "execution_count": null,
   "id": "9b72f961",
   "metadata": {},
   "outputs": [],
   "source": [
    "#Now I want to edit those cells and add the correct conference\n",
    "df.iat[68,0] = 'Ole Miss (SEC)'"
   ]
  },
  {
   "cell_type": "code",
   "execution_count": null,
   "id": "22848925",
   "metadata": {},
   "outputs": [],
   "source": [
    "#Now I'll get the SEC teams again\n",
    "df[df['Team'].str.contains('SEC')]"
   ]
  },
  {
   "cell_type": "code",
   "execution_count": null,
   "id": "d271f4c3",
   "metadata": {},
   "outputs": [],
   "source": [
    "#Verifying that all teams end with their conference in their name\n",
    "df[df['Team'].str.endswith(\"()\")]"
   ]
  },
  {
   "cell_type": "code",
   "execution_count": null,
   "id": "9cffcaa9",
   "metadata": {},
   "outputs": [],
   "source": [
    "#Next let's try to add the conference as a column.\n",
    "conferences = list(df.Team)"
   ]
  },
  {
   "cell_type": "code",
   "execution_count": null,
   "id": "20038087",
   "metadata": {},
   "outputs": [],
   "source": [
    "#I started by making an empty list that would contain the new column values.\n",
    "conf_only = []"
   ]
  },
  {
   "cell_type": "code",
   "execution_count": null,
   "id": "d59722ab",
   "metadata": {},
   "outputs": [],
   "source": [
    "#I then used a For loop to loop through the Team names and use two 'Find' operators to select only the letters that fell between the '()' in each name which had the conference info.\n",
    "for x in conferences:\n",
    "    conf_only.append(x[x.find('(')+1:x.find(')')])"
   ]
  },
  {
   "cell_type": "code",
   "execution_count": null,
   "id": "9ecec802",
   "metadata": {},
   "outputs": [],
   "source": [
    "#I then used 'Insert' to put the new column that contained only the names back into the dataframe.\n",
    "df.insert(loc = 1,\n",
    "                column = 'Conference',\n",
    "                value = conf_only)"
   ]
  },
  {
   "cell_type": "code",
   "execution_count": null,
   "id": "bea66b5b",
   "metadata": {},
   "outputs": [],
   "source": [
    "#Now Create a function or For Loop that will do this to each dataframe in the list in one step\n"
   ]
  },
  {
   "cell_type": "code",
   "execution_count": null,
   "id": "17062ff3",
   "metadata": {},
   "outputs": [],
   "source": [
    "#Try to determine which Stat/column has the most and least impact on Wins."
   ]
  }
 ],
 "metadata": {
  "kernelspec": {
   "display_name": "Python 3.10.6 ('cfb')",
   "language": "python",
   "name": "python3"
  },
  "language_info": {
   "codemirror_mode": {
    "name": "ipython",
    "version": 3
   },
   "file_extension": ".py",
   "mimetype": "text/x-python",
   "name": "python",
   "nbconvert_exporter": "python",
   "pygments_lexer": "ipython3",
   "version": "3.10.6"
  },
  "vscode": {
   "interpreter": {
    "hash": "db16622fd92de6b4b3e6ecc7430c163675d01ddce9b5e1720e3549e30548e89f"
   }
  }
 },
 "nbformat": 4,
 "nbformat_minor": 5
}
