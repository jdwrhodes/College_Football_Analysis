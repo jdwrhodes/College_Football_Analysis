{
 "cells": [
  {
   "cell_type": "code",
   "execution_count": 1,
   "id": "9519ddd5",
   "metadata": {},
   "outputs": [],
   "source": [
    "# Dependencies and setup\n",
    "import pandas as pd\n",
    "import os\n",
    "import glob"
   ]
  },
  {
   "cell_type": "code",
   "execution_count": 2,
   "id": "4efe0b21",
   "metadata": {},
   "outputs": [],
   "source": [
    "#Files to load\n",
    "college_football_data = '../source_data/cfb*.csv'\n",
    "all_files = glob.glob(college_football_data)\n",
    "dataframes_list = []"
   ]
  },
  {
   "cell_type": "code",
   "execution_count": 3,
   "id": "a42aef5e",
   "metadata": {},
   "outputs": [],
   "source": [
    "#For Loop to put each csv into a list\n",
    "for x in all_files:\n",
    "    temp_df = pd.read_csv(x)\n",
    "    dataframes_list.append(temp_df)"
   ]
  },
  {
   "cell_type": "code",
   "execution_count": 4,
   "id": "cfcaad1d",
   "metadata": {},
   "outputs": [],
   "source": [
    "#Adds a key-value pair to a dictionary. If the key already exists in the dictionary, it will associate multiple values with that key instead of overwritting its value.\n",
    "def add_value(dict_obj, key, value):\n",
    "    if key not in dict_obj:\n",
    "        dict_obj[key] = value\n",
    "    elif isinstance(dict_obj[key], list):\n",
    "        dict_obj[key].append(value)\n",
    "    else:\n",
    "        dict_obj[key] = [dict_obj[key], value]"
   ]
  },
  {
   "cell_type": "code",
   "execution_count": 5,
   "id": "9107ca0d",
   "metadata": {},
   "outputs": [],
   "source": [
    "#Make a For Loop that applies the new column to each Dataset while creating a Dictionary with Teams that are missing Conference names.\n",
    "iterator = 0\n",
    "no_conf_name = {}\n",
    "\n",
    "for i in dataframes_list:\n",
    "    df=pd.DataFrame(dataframes_list[iterator])\n",
    "    teams = list(df.Team)\n",
    "    conf_only = []\n",
    "\n",
    "    for x in teams:\n",
    "        conf_only.append(x[x.find('(')+1:x.find(')')])\n",
    "\n",
    "        if x[x.find('(')+1:x.find(')')] == \"\":\n",
    "            add_value(no_conf_name, iterator, x)\n",
    "        \n",
    "        #x.strip(x[x.find('(')+1:x.find(')')])\n",
    "\n",
    "    df.insert(loc = 2,\n",
    "                column = 'Conference',\n",
    "                value = conf_only)\n",
    "    iterator+=1"
   ]
  },
  {
   "cell_type": "code",
   "execution_count": 6,
   "id": "4c0a31ee",
   "metadata": {},
   "outputs": [
    {
     "name": "stdout",
     "output_type": "stream",
     "text": [
      "{0: 'Ole Miss ()', 1: ['Ole Miss ()', 'Pittsburgh ()']}\n"
     ]
    }
   ],
   "source": [
    "#What are the teams missing conference names and which Dataframe where they in within the List?\n",
    "print(no_conf_name)"
   ]
  }
 ],
 "metadata": {
  "kernelspec": {
   "display_name": "Python 3.10.6 ('cfb')",
   "language": "python",
   "name": "python3"
  },
  "language_info": {
   "codemirror_mode": {
    "name": "ipython",
    "version": 3
   },
   "file_extension": ".py",
   "mimetype": "text/x-python",
   "name": "python",
   "nbconvert_exporter": "python",
   "pygments_lexer": "ipython3",
   "version": "3.10.6"
  },
  "vscode": {
   "interpreter": {
    "hash": "db16622fd92de6b4b3e6ecc7430c163675d01ddce9b5e1720e3549e30548e89f"
   }
  }
 },
 "nbformat": 4,
 "nbformat_minor": 5
}
